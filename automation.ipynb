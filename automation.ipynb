{
 "cells": [
  {
   "cell_type": "code",
   "execution_count": 1,
   "id": "ec65afef-3d27-4b77-907b-606dbc51ab64",
   "metadata": {},
   "outputs": [],
   "source": [
    "email = \n",
    "password = "
   ]
  },
  {
   "cell_type": "markdown",
   "id": "274ae763-ce3f-400a-bc7a-1848a234fe5d",
   "metadata": {},
   "source": [
    "## Glyph Code Acqusition"
   ]
  },
  {
   "cell_type": "code",
   "execution_count": 2,
   "id": "47fdd582-a613-493c-8d7f-b33148b4c173",
   "metadata": {},
   "outputs": [],
   "source": [
    "import requests \n",
    "from bs4 import BeautifulSoup"
   ]
  },
  {
   "cell_type": "code",
   "execution_count": 3,
   "id": "b0357988-187e-44a5-a9a4-4f014448c8cc",
   "metadata": {},
   "outputs": [],
   "source": [
    "url = \"https://www.dexerto.com/gaming/warframe-promo-codes-glyph-weapon-booster-1655273/\""
   ]
  },
  {
   "cell_type": "code",
   "execution_count": 4,
   "id": "14b5a8db-3aa3-4cce-8ef0-33dd45b3e05d",
   "metadata": {},
   "outputs": [],
   "source": [
    "response = requests.get(url)"
   ]
  },
  {
   "cell_type": "code",
   "execution_count": 5,
   "id": "867f4b40-3839-419e-b874-8b68118ab033",
   "metadata": {},
   "outputs": [],
   "source": [
    "soup = BeautifulSoup(response.content, 'html.parser')"
   ]
  },
  {
   "cell_type": "code",
   "execution_count": 6,
   "id": "16e9a178-2f46-4716-91f7-5347a8e74207",
   "metadata": {},
   "outputs": [],
   "source": [
    "x = []\n",
    "for table in soup.find_all('table'):\n",
    "    x += [item.text.strip() for item in table.find_all('strong')[2:]]"
   ]
  },
  {
   "cell_type": "markdown",
   "id": "32356135-7feb-4fc1-856f-b53e2bcf13a3",
   "metadata": {},
   "source": [
    "## Redeeming Glyph Code"
   ]
  },
  {
   "cell_type": "code",
   "execution_count": 1,
   "id": "6411fd87-1769-4c8c-b583-973520839b1d",
   "metadata": {},
   "outputs": [],
   "source": [
    "from selenium import webdriver\n",
    "from selenium.webdriver.firefox.service import Service as FirefoxService\n",
    "from webdriver_manager.firefox import GeckoDriverManager\n",
    "from selenium.webdriver.common.by import By\n",
    "\n",
    "import time"
   ]
  },
  {
   "cell_type": "code",
   "execution_count": 2,
   "id": "2a8da2f8-609c-42a0-b7cb-c4768d2a8123",
   "metadata": {},
   "outputs": [],
   "source": [
    "driver = webdriver.Firefox(service=FirefoxService(GeckoDriverManager().install()))\n",
    "driver.get('https://www.warframe.com/promocode')\n",
    "driver.maximize_window()"
   ]
  },
  {
   "cell_type": "code",
   "execution_count": 10,
   "id": "1f07a08d-9b36-4c3b-9e4e-447d478a0993",
   "metadata": {},
   "outputs": [],
   "source": [
    "driver.find_element(By.ID, 'btnLogin').click()\n",
    "time.sleep(2)\n",
    "driver.find_element(By.ID, 'onetrust-reject-all-handler').click()\n",
    "\n",
    "time.sleep(5)\n",
    "driver.find_element(By.ID, 'fldEmail').send_keys(email)\n",
    "driver.find_element(By.ID, 'fldPassword').send_keys(password)\n",
    "driver.find_element(By.ID, 'submit-login').click()\n",
    "time.sleep(20)"
   ]
  },
  {
   "cell_type": "code",
   "execution_count": 12,
   "id": "b7392e89-d6d8-46d7-a949-2bd0a66deea0",
   "metadata": {},
   "outputs": [
    {
     "name": "stdout",
     "output_type": "stream",
     "text": [
      "0\n",
      "1\n",
      "2\n",
      "3\n",
      "4\n",
      "5\n",
      "6\n",
      "7\n",
      "8\n",
      "9\n",
      "10\n",
      "11\n",
      "12\n",
      "13\n",
      "14\n",
      "15\n",
      "16\n",
      "17\n",
      "18\n",
      "19\n",
      "20\n",
      "21\n",
      "22\n",
      "23\n",
      "24\n",
      "25\n",
      "26\n",
      "27\n",
      "28\n",
      "29\n",
      "30\n",
      "31\n",
      "32\n",
      "33\n",
      "34\n",
      "35\n",
      "36\n",
      "37\n",
      "38\n",
      "39\n",
      "40\n",
      "41\n",
      "42\n",
      "43\n",
      "44\n",
      "45\n",
      "46\n",
      "47\n",
      "48\n",
      "49\n",
      "50\n",
      "51\n",
      "52\n",
      "53\n",
      "54\n",
      "55\n",
      "56\n",
      "57\n",
      "58\n",
      "59\n",
      "60\n",
      "61\n",
      "62\n",
      "63\n",
      "64\n",
      "65\n",
      "66\n",
      "67\n",
      "68\n",
      "69\n",
      "70\n",
      "71\n",
      "72\n",
      "73\n",
      "74\n",
      "75\n",
      "76\n",
      "77\n",
      "78\n",
      "79\n",
      "80\n",
      "81\n",
      "82\n",
      "83\n",
      "84\n",
      "85\n",
      "86\n",
      "87\n",
      "88\n",
      "89\n",
      "90\n",
      "91\n",
      "92\n",
      "93\n",
      "94\n",
      "95\n",
      "96\n",
      "97\n",
      "98\n",
      "99\n",
      "100\n",
      "101\n",
      "102\n",
      "103\n",
      "104\n",
      "105\n",
      "106\n",
      "107\n",
      "108\n",
      "109\n",
      "110\n",
      "111\n",
      "112\n",
      "113\n",
      "114\n",
      "115\n",
      "116\n",
      "117\n",
      "118\n",
      "119\n",
      "120\n",
      "121\n",
      "122\n",
      "123\n",
      "124\n",
      "125\n",
      "126\n",
      "127\n",
      "128\n",
      "129\n",
      "130\n",
      "131\n",
      "132\n",
      "133\n",
      "134\n",
      "135\n"
     ]
    }
   ],
   "source": [
    "for index, item in enumerate():\n",
    "    driver.find_element(By.ID, 'promocode_input').send_keys(item)\n",
    "    driver.find_element(By.ID, 'btnSubmit').click()\n",
    "    time.sleep(10)\n",
    "    driver.get('https://www.warframe.com/promocode')\n",
    "    print(index)"
   ]
  },
  {
   "cell_type": "code",
   "execution_count": 15,
   "id": "9bd6ff16-ec0c-4e35-bd83-b70a9a8b8f52",
   "metadata": {},
   "outputs": [],
   "source": [
    "driver.close()"
   ]
  },
  {
   "cell_type": "code",
   "execution_count": null,
   "id": "3357b061-de91-40f5-90f4-1ddcb19e9602",
   "metadata": {},
   "outputs": [],
   "source": []
  }
 ],
 "metadata": {
  "kernelspec": {
   "display_name": "scraping_venv",
   "language": "python",
   "name": "scraping_venv"
  },
  "language_info": {
   "codemirror_mode": {
    "name": "ipython",
    "version": 3
   },
   "file_extension": ".py",
   "mimetype": "text/x-python",
   "name": "python",
   "nbconvert_exporter": "python",
   "pygments_lexer": "ipython3",
   "version": "3.11.5"
  }
 },
 "nbformat": 4,
 "nbformat_minor": 5
}
